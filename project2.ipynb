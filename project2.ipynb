{
  "nbformat": 4,
  "nbformat_minor": 0,
  "metadata": {
    "colab": {
      "name": "project2.ipynb",
      "private_outputs": true,
      "provenance": [],
      "collapsed_sections": [],
      "toc_visible": true
    },
    "kernelspec": {
      "name": "python3",
      "display_name": "Python 3"
    },
    "language_info": {
      "name": "python"
    }
  },
  "cells": [
    {
      "cell_type": "markdown",
      "metadata": {
        "id": "r9UX-wCHlS0l"
      },
      "source": [
        "# 머신러닝 모델링을 통한 서울시 집값 예측하기"
      ]
    },
    {
      "cell_type": "markdown",
      "metadata": {
        "id": "OtQg7878o3vQ"
      },
      "source": [
        "# 1.데이터 선정 이유 및 문제 정의"
      ]
    },
    {
      "cell_type": "code",
      "metadata": {
        "id": "LNtEUZOslLZW"
      },
      "source": [
        "from IPython.display import Image\n",
        "Image('/content/drive/MyDrive/aibootcamp/project2/fewfawe.png')"
      ],
      "execution_count": null,
      "outputs": []
    },
    {
      "cell_type": "code",
      "metadata": {
        "id": "RS9TpiUFln3c"
      },
      "source": [
        "# 매도인의 입장: 자신의 집 적절한 가격과 이윤을 남을 수 있을지 예측\n",
        "# 매수인의 입장: 사고자하는 집의 적절한 가격을 예측\n",
        "# 집값 예측 > 집매매 선택에 도움을 주기위해 "
      ],
      "execution_count": null,
      "outputs": []
    },
    {
      "cell_type": "markdown",
      "metadata": {
        "id": "dUD7YIwUpA_L"
      },
      "source": [
        "# 2.데이터를 이용한 가설 및 평가지표, 베이스라인 선택"
      ]
    },
    {
      "cell_type": "code",
      "metadata": {
        "id": "JIixJgqIygsY"
      },
      "source": [
        "# 가설: 집값 예측\n",
        "# 베이스라인: 평균기준모델\n",
        "# 평가지표: R2"
      ],
      "execution_count": null,
      "outputs": []
    },
    {
      "cell_type": "code",
      "metadata": {
        "id": "Dr9DQVB81qCO"
      },
      "source": [
        "!pip uninstall pandas_profiling"
      ],
      "execution_count": null,
      "outputs": []
    },
    {
      "cell_type": "code",
      "metadata": {
        "id": "wZvnt_Y_1uSu"
      },
      "source": [
        "!pip install pandas_profiling"
      ],
      "execution_count": null,
      "outputs": []
    },
    {
      "cell_type": "code",
      "metadata": {
        "id": "WPiXgqTU5JK_"
      },
      "source": [
        "import pandas as pd\n",
        "import numpy as np\n",
        "import seaborn as sns\n",
        "import matplotlib.pyplot as plt\n",
        "%config InlineBackend.figure_format = 'retina'\n",
        "from sklearn.metrics import r2_score, mean_absolute_error,mean_squared_error\n",
        "import matplotlib as mpl\n",
        "import matplotlib.font_manager as fm"
      ],
      "execution_count": null,
      "outputs": []
    },
    {
      "cell_type": "code",
      "metadata": {
        "id": "wV3RsVLrCsNl"
      },
      "source": [
        "!pip install eli5"
      ],
      "execution_count": null,
      "outputs": []
    },
    {
      "cell_type": "code",
      "metadata": {
        "id": "sOu_VT1aBRdH"
      },
      "source": [
        "!pip install shap"
      ],
      "execution_count": null,
      "outputs": []
    },
    {
      "cell_type": "code",
      "metadata": {
        "id": "3qH8FVsjB7ow"
      },
      "source": [
        "!pip install shap.initjs()"
      ],
      "execution_count": null,
      "outputs": []
    },
    {
      "cell_type": "code",
      "metadata": {
        "id": "1imDG10ua3Uv"
      },
      "source": [
        "!sudo apt-get install -y fonts-nanum\n",
        "!sudo fc-cache -fv\n",
        "!rm ~/.cache/matplotlib -rf\n",
        "\n",
        "# Colab 의 한글 폰트 설정\n",
        "import matplotlib.pyplot as plt\n",
        "plt.rc('font', family='NanumBarunGothic')"
      ],
      "execution_count": null,
      "outputs": []
    },
    {
      "cell_type": "code",
      "metadata": {
        "id": "KtXkkc4DESqL"
      },
      "source": [
        "!pip install category_encoders"
      ],
      "execution_count": null,
      "outputs": []
    },
    {
      "cell_type": "code",
      "metadata": {
        "id": "ZrSywN19_tNQ"
      },
      "source": [
        "from google.colab import drive\n",
        "drive.mount('/content/drive')"
      ],
      "execution_count": null,
      "outputs": []
    },
    {
      "cell_type": "code",
      "metadata": {
        "id": "5ibDaIfn_z33"
      },
      "source": [
        "df = pd.read_csv('/content/drive/MyDrive/aibootcamp/project2/서울특별시_부동산_실거래가_정보_2020년.csv',encoding ='cp949')\n",
        "df.head()"
      ],
      "execution_count": null,
      "outputs": []
    },
    {
      "cell_type": "markdown",
      "metadata": {
        "id": "Q4uLVCInmmdw"
      },
      "source": [
        "#3.EDA와 데이터 전처리"
      ]
    },
    {
      "cell_type": "markdown",
      "metadata": {
        "id": "OotI4lWcmvsX"
      },
      "source": [
        "## • EDA"
      ]
    },
    {
      "cell_type": "markdown",
      "metadata": {
        "id": "uOdr0L34ykZp"
      },
      "source": [
        "> 1. 중복 혹은 필요없는 컬럼 존재.\n",
        ">> * 필요없는 컬럼: '실거래가아이디','신고년도','업무구분코드','업무구분','물건번호', '건물명', '관리구분코드','지번코드'\n",
        ">> * 중복: '시군구코드','법정동코드''건물주용도코드'\n",
        ">> *        -> 자치구명   -> 법정동명 -> 건물주용도\n",
        "> 2. Target값에 이상치 존재."
      ]
    },
    {
      "cell_type": "code",
      "metadata": {
        "id": "dFa6lOhomZCR"
      },
      "source": [
        "from pandas_profiling import ProfileReport\n",
        "profile = ProfileReport(df, minimal=True).to_notebook_iframe()"
      ],
      "execution_count": null,
      "outputs": []
    },
    {
      "cell_type": "code",
      "metadata": {
        "id": "XP6-ARHMzqC1"
      },
      "source": [
        "df.describe()"
      ],
      "execution_count": null,
      "outputs": []
    },
    {
      "cell_type": "markdown",
      "metadata": {
        "id": "d5DSpCdwnULt"
      },
      "source": [
        "## •\tFeature Engineering"
      ]
    },
    {
      "cell_type": "markdown",
      "metadata": {
        "id": "Baa-ox7kzy0U"
      },
      "source": [
        "> 1. 중복 혹은 필요없는 컬럼 제거.\n",
        "> 2. 타겟값 단위(천만원) 조정"
      ]
    },
    {
      "cell_type": "code",
      "metadata": {
        "id": "H77EDykjIkrA"
      },
      "source": [
        "dftr = df.drop(['실거래가아이디','시군구코드','지번코드','법정동코드','신고년도','업무구분코드','업무구분','물건번호','건물명','건물주용도코드','관리구분코드'],axis=1)\n",
        "dftr['물건금액'] = dftr['물건금액']/10000000\n",
        "dftr"
      ],
      "execution_count": null,
      "outputs": []
    },
    {
      "cell_type": "markdown",
      "metadata": {
        "id": "Z-LWXm-VnCTL"
      },
      "source": [
        "## • 이상치 제거"
      ]
    },
    {
      "cell_type": "code",
      "metadata": {
        "id": "-UXqG0XynHpr"
      },
      "source": [
        "target = '물건금액'\n",
        "dftr = dftr[dftr[target] < np.percentile(dftr[target], 99.5)]"
      ],
      "execution_count": null,
      "outputs": []
    },
    {
      "cell_type": "markdown",
      "metadata": {
        "id": "IkM1Qs5UlRu_"
      },
      "source": [
        "## • 결측치 제거 혹은 대체"
      ]
    },
    {
      "cell_type": "code",
      "metadata": {
        "id": "8e-1OvNZrHkM"
      },
      "source": [
        "dftr.isna().sum()"
      ],
      "execution_count": null,
      "outputs": []
    },
    {
      "cell_type": "markdown",
      "metadata": {
        "id": "Aia3Qmhw0bBb"
      },
      "source": [
        "> 1. 대지권면적 결측치 컬럼 제거\n",
        "> 2. 층정보의 결측치는 모두 단독주택 so 평균적 2층으로 대체\n",
        "> 3. if 건축년도 = 0: NAN으로 가정. 건축년도 평균값으로 대체 "
      ]
    },
    {
      "cell_type": "code",
      "metadata": {
        "id": "GkDr-GTwWgXN"
      },
      "source": [
        "dftr = dftr.dropna(subset=['대지권면적'])\n",
        "dftr['층정보']= dftr['층정보'].fillna(value = 2)\n",
        "dftr['건축년도'] = np.where(dftr['건축년도']==0,np.nan,dftr['건축년도'])\n",
        "dftr['건축년도'] = dftr['건축년도'].fillna(value = round(dftr['건축년도'].mean()))\n",
        "dftr = dftr.reset_index()\n",
        "dftr = dftr.iloc[:,1:]\n",
        "dftr.describe()"
      ],
      "execution_count": null,
      "outputs": []
    },
    {
      "cell_type": "code",
      "metadata": {
        "id": "jwtb2W9PWIVT"
      },
      "source": [
        "dftr.isna().sum()"
      ],
      "execution_count": null,
      "outputs": []
    },
    {
      "cell_type": "code",
      "metadata": {
        "id": "5WNNbl-I0cH4"
      },
      "source": [
        "from pandas_profiling import ProfileReport\n",
        "profile = ProfileReport(dftr, minimal=True).to_notebook_iframe()"
      ],
      "execution_count": null,
      "outputs": []
    },
    {
      "cell_type": "markdown",
      "metadata": {
        "id": "Siqm-Dsfl5zD"
      },
      "source": [
        "#4.머신러닝 방식 적용 및 교차검증"
      ]
    },
    {
      "cell_type": "markdown",
      "metadata": {
        "id": "wN96IHFH2F2i"
      },
      "source": [
        "> Train:Val:Test = 6:4:4 비율로 적용"
      ]
    },
    {
      "cell_type": "code",
      "metadata": {
        "id": "5xpyfmDq2baw"
      },
      "source": [
        "### 베이스 라인"
      ],
      "execution_count": null,
      "outputs": []
    },
    {
      "cell_type": "code",
      "metadata": {
        "id": "HOfKvk1DPjLb"
      },
      "source": [
        "predict = dftr['물건금액'].mean()\n",
        "base_y = pd.Series([predict]*len(dftr))\n",
        "r2_score(dftr['물건금액'],base_y)"
      ],
      "execution_count": null,
      "outputs": []
    },
    {
      "cell_type": "code",
      "metadata": {
        "id": "LNU274slDRsP"
      },
      "source": [
        "from sklearn.model_selection import train_test_split\n",
        "train, test = train_test_split(dftr, test_size = 0.2)\n",
        "train, val = train_test_split(train, test_size = 0.2)\n",
        "\n",
        "target = '물건금액'\n",
        "\n",
        "x_train = train.drop('물건금액',axis = 1)\n",
        "y_train = train['물건금액']\n",
        "\n",
        "x_val = val.drop('물건금액',axis = 1)\n",
        "y_val = val['물건금액']\n",
        "\n",
        "x_test = test.drop('물건금액',axis = 1)\n",
        "y_test = test['물건금액']"
      ],
      "execution_count": null,
      "outputs": []
    },
    {
      "cell_type": "code",
      "metadata": {
        "id": "TlUOKKELEHsM"
      },
      "source": [
        "from sklearn.pipeline import make_pipeline\n",
        "# 인코더 라이브러리\n",
        "from category_encoders import OrdinalEncoder\n",
        "from category_encoders import OneHotEncoder\n",
        "from category_encoders import TargetEncoder\n",
        "# 대체 라이브러리\n",
        "from sklearn.impute import SimpleImputer\n",
        "# 스케일러 라이브러리\n",
        "from sklearn.preprocessing import StandardScaler\n",
        "# 모델 라이브러리\n",
        "from sklearn.linear_model import LinearRegression\n",
        "from sklearn.linear_model import Ridge\n",
        "from sklearn.ensemble import RandomForestRegressor\n",
        "from sklearn.compose import TransformedTargetRegressor\n",
        "from xgboost import XGBRegressor\n",
        "from sklearn.model_selection import cross_val_score\n",
        "from scipy.stats import randint, uniform\n",
        "from sklearn.model_selection import RandomizedSearchCV"
      ],
      "execution_count": null,
      "outputs": []
    },
    {
      "cell_type": "markdown",
      "metadata": {
        "id": "hc2X3FqXeheC"
      },
      "source": [
        "## (1) Multiple Linear"
      ]
    },
    {
      "cell_type": "markdown",
      "metadata": {
        "id": "wl2UwQiw2xgH"
      },
      "source": [
        "> 다중선형회귀 결과: R2가 약 0.7 나오는 것을 확인할 수 있다."
      ]
    },
    {
      "cell_type": "code",
      "metadata": {
        "id": "bFOChrSFjEf2"
      },
      "source": [
        "linear = make_pipeline(\n",
        "    TargetEncoder(),\n",
        "    SimpleImputer(),\n",
        "    StandardScaler(),\n",
        "    LinearRegression()\n",
        ")\n",
        "\n",
        "linear.fit(x_train, y_train)\n",
        "print('R^2: ', linear.score(x_val, y_val))"
      ],
      "execution_count": null,
      "outputs": []
    },
    {
      "cell_type": "code",
      "metadata": {
        "id": "b_068cUSjTJ8"
      },
      "source": [
        "target = '물건금액' \n",
        "fts = dftr.columns.drop(target)\n",
        "coefficients = linear.named_steps['linearregression'].coef_\n",
        "pd.Series(coefficients, fts)"
      ],
      "execution_count": null,
      "outputs": []
    },
    {
      "cell_type": "markdown",
      "metadata": {
        "id": "cHD00v5cenJL"
      },
      "source": [
        "## (2) RidgeRegression"
      ]
    },
    {
      "cell_type": "markdown",
      "metadata": {
        "id": "xJ9Ssupp3OBJ"
      },
      "source": [
        "> 릿지회귀 결과: R2가 약 0.75 나오는 것을 확인할 수 있다."
      ]
    },
    {
      "cell_type": "code",
      "metadata": {
        "id": "8TG-ygvCeryj"
      },
      "source": [
        "ridge = make_pipeline(\n",
        "    OneHotEncoder(use_cat_names=True), \n",
        "    SimpleImputer(strategy='mean'),\n",
        "    StandardScaler(),\n",
        "    Ridge()\n",
        ")\n",
        "\n",
        "ridge.fit(x_train, y_train)\n",
        "print('R^2: ', ridge.score(x_val, y_val))"
      ],
      "execution_count": null,
      "outputs": []
    },
    {
      "cell_type": "markdown",
      "metadata": {
        "id": "RM-re2mxg3kU"
      },
      "source": [
        "#### RidgeRegression hyper parameter"
      ]
    },
    {
      "cell_type": "markdown",
      "metadata": {
        "id": "jwy0rr2k3cgo"
      },
      "source": [
        "> 릿지선형회귀 튜닝 결과: R2가 약 0.7 나오는 것을 확인할 수 있다\n",
        "> * 최적 하이퍼파라미터: alpha = 10"
      ]
    },
    {
      "cell_type": "code",
      "metadata": {
        "id": "b0oD7c68hDzE"
      },
      "source": [
        "dists = {\n",
        "    'ridge__alpha': [0.1, 1, 5, 10], \n",
        "}\n",
        "clf_ridge = RandomizedSearchCV(\n",
        "    ridge, \n",
        "    param_distributions=dists, \n",
        "    n_iter=10, \n",
        "    cv=5,\n",
        "    scoring='r2',\n",
        "    verbose=1,\n",
        "    n_jobs=-1\n",
        ")\n",
        "clf_ridge.fit(x_train, y_train);\n",
        "print('최적 하이퍼파라미터: ', clf_ridge.best_params_)\n",
        "print('R2: ', clf_ridge.best_score_)"
      ],
      "execution_count": null,
      "outputs": []
    },
    {
      "cell_type": "markdown",
      "metadata": {
        "id": "YayPLtXLd3tH"
      },
      "source": [
        "## (3) RandomForest"
      ]
    },
    {
      "cell_type": "markdown",
      "metadata": {
        "id": "FZvu5-vn4EB9"
      },
      "source": [
        "> 랜덤포레스트 결과: R2가 약 0.84 나오는 것을 확인할 수 있다"
      ]
    },
    {
      "cell_type": "code",
      "metadata": {
        "id": "oaoE5WWpfoKt"
      },
      "source": [
        "p = make_pipeline(\n",
        "    OrdinalEncoder() ,\n",
        "    SimpleImputer(),\n",
        "    StandardScaler(),\n",
        "    RandomForestRegressor(random_state=10, n_jobs=-1)\n",
        ")\n",
        "p.fit(x_train, y_train)\n",
        "## Import up sound alert dependencies\n",
        "from IPython.display import Audio, display\n",
        "def allDone():\n",
        "  display(Audio(url='https://freesound.org/data/previews/219/219244_4082826-lq.mp3', autoplay=True))\n",
        "## Insert whatever audio file you want above\n",
        "allDone()"
      ],
      "execution_count": null,
      "outputs": []
    },
    {
      "cell_type": "code",
      "metadata": {
        "id": "ljOrcaLyhpAZ"
      },
      "source": [
        "print('검증 정확도', p.score(x_val,y_val))"
      ],
      "execution_count": null,
      "outputs": []
    },
    {
      "cell_type": "markdown",
      "metadata": {
        "id": "fGuxyKv0gmMX"
      },
      "source": [
        "#### RandomForest hyper parameter"
      ]
    },
    {
      "cell_type": "markdown",
      "metadata": {
        "id": "-m2btRfF4LAN"
      },
      "source": [
        "> 랜덤포레스트 튜닝 결과: R2가 약 0.84 나오는 것을 확인할 수 있다\n",
        "> * 최적 하이퍼파라미터:\n",
        ">> 1. max_depth: 20\n",
        ">> 2. max_features: 0.82\n",
        ">> 3. n_estimators: 244"
      ]
    },
    {
      "cell_type": "code",
      "metadata": {
        "id": "e7dz3JfIh_Fc"
      },
      "source": [
        "dists = {\n",
        "    'randomforestregressor__n_estimators': randint(50, 500), \n",
        "    'randomforestregressor__max_depth': [5, 10, 15, 20, None], \n",
        "    'randomforestregressor__max_features': uniform(0, 1) # max_features\n",
        "}\n",
        "clf_rf = RandomizedSearchCV(\n",
        "    p, \n",
        "    param_distributions=dists, \n",
        "    n_iter=10, \n",
        "    cv=5, \n",
        "    scoring='r2',  \n",
        "    verbose=1,\n",
        "    n_jobs=-1\n",
        ")\n",
        "clf_rf.fit(x_train, y_train)\n",
        "print('최적 하이퍼파라미터: ', clf_rf.best_params_)\n",
        "print('r2: ', clf_rf.best_score_)"
      ],
      "execution_count": null,
      "outputs": []
    },
    {
      "cell_type": "markdown",
      "metadata": {
        "id": "25cROf43k2yJ"
      },
      "source": [
        "## (4) BOOSTING"
      ]
    },
    {
      "cell_type": "markdown",
      "metadata": {
        "id": "ff1PmKqx7Vo9"
      },
      "source": [
        "> 부스팅 결과: R2가 약 0.85 나오는 것을 확인할 수 있다"
      ]
    },
    {
      "cell_type": "code",
      "metadata": {
        "id": "lXaJwLrTk1fJ"
      },
      "source": [
        "encoder = OrdinalEncoder()\n",
        "x_train_encoded = encoder.fit_transform(x_train) # 학습데이터\n",
        "x_val_encoded = encoder.transform(x_val) # 검증데이터\n",
        "x_test_encoded = encoder.transform(x_test) \n",
        "\n",
        "boosting = XGBRegressor(\n",
        "    n_estimators=1000,\n",
        "    objective='reg:squarederror', # default\n",
        "    learning_rate=0.2,\n",
        "    n_jobs=-1\n",
        ")\n",
        "eval_set = [(x_train_encoded, y_train), \n",
        "            (x_val_encoded, y_val)]\n",
        "boosting.fit(x_train_encoded, y_train, \n",
        "          eval_set=eval_set,\n",
        "          early_stopping_rounds=50\n",
        "         )"
      ],
      "execution_count": null,
      "outputs": []
    },
    {
      "cell_type": "code",
      "metadata": {
        "id": "yFANu9lElx4u"
      },
      "source": [
        "y_pred_boost = boosting.predict(x_val_encoded)\n",
        "print('R^2: ', r2_score(y_val, y_pred_boost))\n",
        "print('MAE: ', mean_absolute_error(y_val, y_pred_boost))\n",
        "print('MSE: ', mean_squared_error(y_val,y_pred_boost))"
      ],
      "execution_count": null,
      "outputs": []
    },
    {
      "cell_type": "markdown",
      "metadata": {
        "id": "Bm7Cwcsnsb5F"
      },
      "source": [
        "#### Boosting hyper parameter"
      ]
    },
    {
      "cell_type": "markdown",
      "metadata": {
        "id": "_vCKGKWq7fm4"
      },
      "source": [
        "> XGB 부스팅 튜닝 결과: R2가 약 0.85 나오는 것을 확인할 수 있다\n",
        "> * 최적 하이퍼파라미터:\n",
        ">> 1. n_estimators: 260\n",
        ">> 2. earning_rate: 0.1"
      ]
    },
    {
      "cell_type": "code",
      "metadata": {
        "id": "OFP2-AuCjJeL"
      },
      "source": [
        "results = boosting.evals_result()\n",
        "train_error = results['validation_0']['rmse']\n",
        "val_error = results['validation_1']['rmse']\n",
        "epoch = range(1, len(train_error)+1)\n",
        "plt.plot(epoch, train_error, label='Train')\n",
        "plt.plot(epoch, val_error, label='Validation')\n",
        "plt.ylabel('rmse')\n",
        "plt.xlabel('Model Complexity (n_estimators)')\n",
        "plt.legend();"
      ],
      "execution_count": null,
      "outputs": []
    },
    {
      "cell_type": "code",
      "metadata": {
        "id": "wtxKLOOv73xf"
      },
      "source": [
        "dists = {\n",
        "    'xgbregressor__n_estimators': randint(200, 300),\n",
        "    'xgbregressor__learning_rate': [0.1,0.2,0.3]\n",
        "}\n",
        "clf_xgb = RandomizedSearchCV(\n",
        "    boosting, \n",
        "    param_distributions=dists, \n",
        "    n_iter=5, \n",
        "    cv=5, \n",
        "    scoring='r2',  \n",
        "    verbose=1,\n",
        "    n_jobs=-1\n",
        ")\n",
        "clf_xgb.fit(x_train_encoded, y_train)\n",
        "print('최적 하이퍼파라미터: ', clf_xgb.best_params_)\n",
        "print('r2: ', clf_xgb.best_score_)"
      ],
      "execution_count": null,
      "outputs": []
    },
    {
      "cell_type": "code",
      "metadata": {
        "id": "RvKgt_KeC_UF"
      },
      "source": [
        "y_pred1 = linear.predict(x_val)\n",
        "mae1 = mean_absolute_error(y_val, y_pred1)\n",
        "mse1 = mean_squared_error(y_val,y_pred1)\n",
        "\n",
        "y_pred2 = ridge.predict(x_val)\n",
        "mae2 = mean_absolute_error(y_val, y_pred2)\n",
        "mse2 = mean_squared_error(y_val, y_pred2)\n",
        "\n",
        "a3 = clf_ridge.best_estimator_\n",
        "y_pred3 = a3.predict(x_val)\n",
        "mae3 = mean_absolute_error(y_val, y_pred3)\n",
        "mse3 = mean_squared_error(y_val, y_pred3)\n",
        "\n",
        "y_pred4 = p.predict(x_val)\n",
        "mae4 = mean_absolute_error(y_val, y_pred4)\n",
        "mse4 = mean_squared_error(y_val, y_pred4)\n",
        "\n",
        "a5 = clf_rf.best_estimator_\n",
        "y_pred5 = a5.predict(x_val)\n",
        "mae5 = mean_absolute_error(y_val, y_pred5)\n",
        "mse5 = mean_squared_error(y_val, y_pred5)\n",
        "\n",
        "mae6 = mean_absolute_error(y_val, y_pred_boost)\n",
        "mse6 = mean_squared_error(y_val, y_pred_boost)\n",
        "\n",
        "a7 = clf_xgb.best_estimator_\n",
        "y_pred7 = a7.predict(x_val_encoded)\n",
        "mae7 = mean_absolute_error(y_val, y_pred7)\n",
        "mse7 = mean_squared_error(y_val, y_pred7)"
      ],
      "execution_count": null,
      "outputs": []
    },
    {
      "cell_type": "markdown",
      "metadata": {
        "id": "jrZMVX4Hoa18"
      },
      "source": [
        "## • 최종 모델 설정"
      ]
    },
    {
      "cell_type": "code",
      "metadata": {
        "id": "SSnwagVm9H7q"
      },
      "source": [
        "print('[Validation R^2 값 비교]')\n",
        "print('Linear Regression: ', round(linear.score(x_val, y_val),2))\n",
        "print('Ridge Regression: ', round(ridge.score(x_val, y_val),2))\n",
        "print('Ridge Regression(tuning): ', round(clf_ridge.best_score_,2))\n",
        "print('Random Forest: ', round(p.score(x_val,y_val),2))\n",
        "print('Random Forest(tuning): ', round(clf_rf.best_score_,2))\n",
        "print('Boosting: ', round(r2_score(y_val, y_pred_boost),2))\n",
        "print('Boosting(tuning): ', round(clf_xgb.best_score_,2))"
      ],
      "execution_count": null,
      "outputs": []
    },
    {
      "cell_type": "code",
      "metadata": {
        "id": "tGWkJ9UuEN1V"
      },
      "source": [
        "print('[Validation MAE 값 비교]')\n",
        "print('Linear Regression: ', round(mae1,2))\n",
        "print('Ridge Regression: ', round(mae2,2))\n",
        "print('Ridge Regression(tuning): ', round(mae3,2))\n",
        "print('Random Forest: ', round(mae4,2))\n",
        "print('Random Forest(tuning): ', round(mae5,2))\n",
        "print('Boosting: ', round(mae6,2))\n",
        "print('Boosting(tuning): ', round(mae7,2))"
      ],
      "execution_count": null,
      "outputs": []
    },
    {
      "cell_type": "code",
      "metadata": {
        "id": "JPujAzJoHOm7"
      },
      "source": [
        "print('[Validation MSE 값 비교]')\n",
        "print('Linear Regression: ', round(mse1,2))\n",
        "print('Ridge Regression: ', round(mse2,2))\n",
        "print('Ridge Regression(tuning): ', round(mse3,2))\n",
        "print('Random Forest: ', round(mse4,2))\n",
        "print('Random Forest(tuning): ', round(mse5,2))\n",
        "print('Boosting: ', round(mse6,2))\n",
        "print('Boosting(tuning): ', round(mse7,2))"
      ],
      "execution_count": null,
      "outputs": []
    },
    {
      "cell_type": "markdown",
      "metadata": {
        "id": "XMsX_kf1A0BK"
      },
      "source": [
        "> 최종모델: Boosting(tuning)\n",
        "\n",
        "> * 최적 하이퍼파라미터:\n",
        ">> 1. n_estimators: 260\n",
        ">> 2. earning_rate: 0.1"
      ]
    },
    {
      "cell_type": "code",
      "metadata": {
        "id": "ACNb2g-HqNjO"
      },
      "source": [
        "y_pred = a7.predict(x_test_encoded)\n",
        "r2_score(y_test, y_pred)"
      ],
      "execution_count": null,
      "outputs": []
    },
    {
      "cell_type": "markdown",
      "metadata": {
        "id": "OETA_2_AU2DO"
      },
      "source": [
        "#5.머신러닝 모델 해석"
      ]
    },
    {
      "cell_type": "code",
      "metadata": {
        "id": "yyp_CsNiUpEl"
      },
      "source": [
        "### (제출폼 과제) 이곳에서 과제를 진행해 주세요 ###\n",
        "import shap"
      ],
      "execution_count": null,
      "outputs": []
    },
    {
      "cell_type": "code",
      "metadata": {
        "id": "LtBTe-_-CpYm"
      },
      "source": [
        "# summary plot\n",
        "shap.initjs()\n",
        "shap_values = explainer.shap_values(x_train_encoded.iloc[:1000])\n",
        "shap.summary_plot(shap_values, x_train_encoded, plot_type='bar')\n",
        "\n",
        "# feature importance\n",
        "importances = pd.Series(a7.feature_importances_, x_train.columns)\n",
        "\n",
        "%matplotlib inline\n",
        "import matplotlib.pyplot as plt\n",
        "\n",
        "n = 13\n",
        "plt.figure(figsize=(10,n/2))\n",
        "plt.title(f'Top {n} features')\n",
        "importances.sort_values()[-n:].plot.barh();\n",
        "\n",
        "# permutation importance\n",
        "import eli5\n",
        "from eli5.sklearn import PermutationImportance\n",
        "\n",
        "permuter = PermutationImportance(\n",
        "    a7,\n",
        "    scoring='r2', \n",
        "    n_iter=5,\n",
        "    random_state=2\n",
        ")\n",
        "\n",
        "permuter.fit(x_train_encoded, y_train);\n",
        "\n",
        "import pandas as pd\n",
        "feature_names = x_train.columns.tolist()\n",
        "\n",
        "eli5.show_weights(\n",
        "    permuter, \n",
        "    top=None,\n",
        "    feature_names=feature_names\n",
        ")"
      ],
      "execution_count": null,
      "outputs": []
    },
    {
      "cell_type": "markdown",
      "metadata": {
        "id": "fCa6kTCXtKRR"
      },
      "source": [
        "## *"
      ]
    },
    {
      "cell_type": "markdown",
      "metadata": {
        "id": "apBaZWSzs1-j"
      },
      "source": [
        "> 건물면적과 대지권 면적이 가장 큰 영향을 미치는 변수임"
      ]
    },
    {
      "cell_type": "code",
      "metadata": {
        "id": "bsVTXGfxhABK"
      },
      "source": [
        "shap.initjs()\n",
        "shap_values1 = explainer.shap_values(x_test_encoded.iloc[:300])\n",
        "shap.summary_plot(shap_values1, x_test_encoded.iloc[:300], plot_type=\"violin\")"
      ],
      "execution_count": null,
      "outputs": []
    },
    {
      "cell_type": "markdown",
      "metadata": {
        "id": "2tP8JCuftRnG"
      },
      "source": [
        "## *"
      ]
    },
    {
      "cell_type": "markdown",
      "metadata": {
        "id": "h--bXzH9tRnG"
      },
      "source": [
        "> * 건물면적과 대지권면적은 클수록 값이 커지는 경향.\n",
        "> * 건축년도는 집값에 미치는 영향이 그렇게 크지 않아 보임.\n",
        "> * 층정보는 낮을수록 집값이 뚜렷하게 감소."
      ]
    },
    {
      "cell_type": "code",
      "metadata": {
        "id": "MwI5bnc2CoC2"
      },
      "source": [
        "# 1. force plot\n",
        "shap.initjs()\n",
        "shap_values = explainer.shap_values(x_train_encoded.iloc[:1000])\n",
        "shap.force_plot(explainer.expected_value, shap_values, x_train_encoded)"
      ],
      "execution_count": null,
      "outputs": []
    },
    {
      "cell_type": "markdown",
      "metadata": {
        "id": "xrsyoNz4t7gv"
      },
      "source": [
        "## *"
      ]
    },
    {
      "cell_type": "markdown",
      "metadata": {
        "id": "68EwilPht7hB"
      },
      "source": [
        "> 다음과 같은 그래프로 예측해볼 수 있음."
      ]
    },
    {
      "cell_type": "code",
      "metadata": {
        "id": "qMCzy-h-9EiU"
      },
      "source": [
        "row = x_test_encoded.iloc[[1]]\n",
        "y_test\n",
        "a7.predict(row)\n",
        "import shap\n",
        "explainer = shap.TreeExplainer(a7)\n",
        "shap_values = explainer.shap_values(row)\n",
        "shap.initjs()\n",
        "shap.force_plot(\n",
        "    base_value=explainer.expected_value, \n",
        "    shap_values=shap_values,\n",
        "    features=row\n",
        ")"
      ],
      "execution_count": null,
      "outputs": []
    },
    {
      "cell_type": "markdown",
      "metadata": {
        "id": "h850tpFUt--N"
      },
      "source": [
        "## *"
      ]
    },
    {
      "cell_type": "markdown",
      "metadata": {
        "id": "tnPEcjQnt--N"
      },
      "source": [
        "> 테스트 데이터 하나로 예측해본 결과 법정동명과 자치구명이 집값을 높이는 영향을 주고, 나머지 변수는 낮추는 영향을 주는 것을 확인"
      ]
    },
    {
      "cell_type": "markdown",
      "metadata": {
        "id": "G-z8JtUusdCL"
      },
      "source": [
        "# 결론"
      ]
    },
    {
      "cell_type": "code",
      "metadata": {
        "id": "_TbHeWdtokz2"
      },
      "source": [
        "dftr.columns"
      ],
      "execution_count": null,
      "outputs": []
    }
  ]
}